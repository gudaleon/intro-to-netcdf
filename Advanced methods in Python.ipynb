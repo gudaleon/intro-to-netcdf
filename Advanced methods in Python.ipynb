{
 "cells": [
  {
   "cell_type": "markdown",
   "metadata": {},
   "source": [
    "# Advanced methods in Python"
   ]
  },
  {
   "cell_type": "markdown",
   "metadata": {},
   "source": [
    "As a demo of the language, plot sin and cos on the same axis:"
   ]
  },
  {
   "cell_type": "code",
   "execution_count": 1,
   "metadata": {
    "collapsed": false
   },
   "outputs": [],
   "source": [
    "# load some key packages:\n",
    "import numpy as np                #a numerical package\n",
    "import pandas as pd               # a data analysis package\n",
    "import matplotlib.pyplot as plt   # a plotting package\n",
    "\n",
    "# to display the plots in the same document\n",
    "%matplotlib inline"
   ]
  },
  {
   "cell_type": "code",
   "execution_count": 3,
   "metadata": {
    "collapsed": false
   },
   "outputs": [],
   "source": [
    "# load some the netcdf-handling package:\n",
    "import xarray as xr\n",
    "\n",
    "data_url = 'http://hydromet-thredds.princeton.edu:9000/thredds/dodsC/MonitoringStations/butler.nc'\n",
    "variable = 'AirTC_Avg'\n",
    "\n",
    "ds = xr.open_dataset(data_url)"
   ]
  },
  {
   "cell_type": "markdown",
   "metadata": {},
   "source": [
    "If you want to check out the names of the variables in this NetCDF file, you can run:"
   ]
  },
  {
   "cell_type": "markdown",
   "metadata": {},
   "source": [
    "## Rainy days"
   ]
  },
  {
   "cell_type": "code",
   "execution_count": 9,
   "metadata": {
    "collapsed": false
   },
   "outputs": [
    {
     "data": {
      "text/plain": [
       "time\n",
       "2011-08-29    187.442\n",
       "2011-08-15    133.860\n",
       "2014-05-01     70.614\n",
       "2013-11-28     70.360\n",
       "2011-07-04     65.534\n",
       "dtype: float64"
      ]
     },
     "execution_count": 9,
     "metadata": {},
     "output_type": "execute_result"
    }
   ],
   "source": [
    "ds_wet_day = ds['Rain_mm_3_Tot'].resample('1D','time', how='sum', label='right')\n",
    "wettest = ds_wet_day.to_pandas().sort_values(ascending=False)\n",
    "wettest.head()"
   ]
  },
  {
   "cell_type": "code",
   "execution_count": 10,
   "metadata": {
    "collapsed": true
   },
   "outputs": [],
   "source": [
    "rainy_day = ds[['Rain_mm_3_Tot', 'VW']].sel(time=slice('2014-04-29', '2014-05-01'))"
   ]
  },
  {
   "cell_type": "code",
   "execution_count": 11,
   "metadata": {
    "collapsed": false
   },
   "outputs": [
    {
     "data": {
      "image/png": "[encoded data removed]",
      "text/plain": [
       "<matplotlib.figure.Figure at 0x7fe16e389450>"
      ]
     },
     "metadata": {},
     "output_type": "display_data"
    }
   ],
   "source": [
    "fig, axes = plt.subplots(ncols=1, nrows=2, figsize=(12,6), sharex=True)\n",
    "\n",
    "rainy_day['Rain_mm_3_Tot'].plot(ax=axes[0], c='b')\n",
    "axes[0].set_title('Rainfall (mm)')\n",
    "\n",
    "rainy_day['VW'].plot(ax=axes[1], c='r')\n",
    "axes[1].set_title('Volumetric Water (%)')\n",
    "\n",
    "plt.show()"
   ]
  },
  {
   "cell_type": "markdown",
   "metadata": {},
   "source": [
    "## Rain on wet soil"
   ]
  },
  {
   "cell_type": "code",
   "execution_count": 12,
   "metadata": {
    "collapsed": false
   },
   "outputs": [
    {
     "data": {
      "text/html": [
       "<div>\n",
       "<table border=\"1\" class=\"dataframe\">\n",
       "  <thead>\n",
       "    <tr style=\"text-align: right;\">\n",
       "      <th></th>\n",
       "      <th>Rain_mm_3_Tot</th>\n",
       "      <th>VW</th>\n",
       "      <th>AirTC_Avg</th>\n",
       "    </tr>\n",
       "    <tr>\n",
       "      <th>time</th>\n",
       "      <th></th>\n",
       "      <th></th>\n",
       "      <th></th>\n",
       "    </tr>\n",
       "  </thead>\n",
       "  <tbody>\n",
       "    <tr>\n",
       "      <th>2016-02-25 08:00:00</th>\n",
       "      <td>3.302</td>\n",
       "      <td>0.343</td>\n",
       "      <td>15.66</td>\n",
       "    </tr>\n",
       "    <tr>\n",
       "      <th>2016-02-25 09:00:00</th>\n",
       "      <td>2.032</td>\n",
       "      <td>0.342</td>\n",
       "      <td>14.75</td>\n",
       "    </tr>\n",
       "    <tr>\n",
       "      <th>2016-03-02 08:00:00</th>\n",
       "      <td>1.270</td>\n",
       "      <td>0.292</td>\n",
       "      <td>13.41</td>\n",
       "    </tr>\n",
       "    <tr>\n",
       "      <th>2016-03-02 09:00:00</th>\n",
       "      <td>2.794</td>\n",
       "      <td>0.307</td>\n",
       "      <td>12.61</td>\n",
       "    </tr>\n",
       "    <tr>\n",
       "      <th>2016-03-02 10:00:00</th>\n",
       "      <td>1.270</td>\n",
       "      <td>0.322</td>\n",
       "      <td>10.56</td>\n",
       "    </tr>\n",
       "  </tbody>\n",
       "</table>\n",
       "</div>"
      ],
      "text/plain": [
       "                     Rain_mm_3_Tot     VW  AirTC_Avg\n",
       "time                                                \n",
       "2016-02-25 08:00:00          3.302  0.343      15.66\n",
       "2016-02-25 09:00:00          2.032  0.342      14.75\n",
       "2016-03-02 08:00:00          1.270  0.292      13.41\n",
       "2016-03-02 09:00:00          2.794  0.307      12.61\n",
       "2016-03-02 10:00:00          1.270  0.322      10.56"
      ]
     },
     "execution_count": 12,
     "metadata": {},
     "output_type": "execute_result"
    }
   ],
   "source": [
    "rain_on_wet_soil = ds.where((ds['Rain_mm_3_Tot']>0) & (ds['VW']>.25) & (ds['AirTC_Avg']>10)).dropna('time')\n",
    "df = rain_on_wet_soil[['Rain_mm_3_Tot', 'VW', 'AirTC_Avg']].to_dataframe()\n",
    "df = df.drop(['lat', 'lon', 'station_name'], axis=1)\n",
    "df.tail()"
   ]
  },
  {
   "cell_type": "markdown",
   "metadata": {},
   "source": [
    "## Monthly rainfall"
   ]
  },
  {
   "cell_type": "code",
   "execution_count": 13,
   "metadata": {
    "collapsed": false,
    "scrolled": true
   },
   "outputs": [
    {
     "data": {
      "text/plain": [
       "<matplotlib.axes._subplots.AxesSubplot at 0x7fe16ddd6e10>"
      ]
     },
     "execution_count": 13,
     "metadata": {},
     "output_type": "execute_result"
    },
    {
     "data": {
      "image/png": "[encoded data removed]",
      "text/plain": [
       "<matplotlib.figure.Figure at 0x7fe16ddd7ad0>"
      ]
     },
     "metadata": {},
     "output_type": "display_data"
    }
   ],
   "source": [
    "monthly_rainfall = ds['Rain_mm_3_Tot'].groupby('time.month').sum('time').to_pandas()\n",
    "monthly_rainfall.plot.bar()"
   ]
  },
  {
   "cell_type": "code",
   "execution_count": null,
   "metadata": {
    "collapsed": true
   },
   "outputs": [],
   "source": []
  },
  {
   "cell_type": "code",
   "execution_count": null,
   "metadata": {
    "collapsed": true
   },
   "outputs": [],
   "source": []
  }
 ],
 "metadata": {
  "kernelspec": {
   "display_name": "Python 2",
   "language": "python",
   "name": "python2"
  },
  "language_info": {
   "codemirror_mode": {
    "name": "ipython",
    "version": 2
   },
   "file_extension": ".py",
   "mimetype": "text/x-python",
   "name": "python",
   "nbconvert_exporter": "python",
   "pygments_lexer": "ipython2",
   "version": "2.7.11"
  }
 },
 "nbformat": 4,
 "nbformat_minor": 0
}
