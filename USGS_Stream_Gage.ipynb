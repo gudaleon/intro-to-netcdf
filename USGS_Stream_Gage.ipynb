{
 "cells": [
  {
   "cell_type": "markdown",
   "metadata": {},
   "source": [
    "This is a test of the netcdf files that we will be building from the USGS stream gage sites."
   ]
  },
  {
   "cell_type": "code",
   "execution_count": 2,
   "metadata": {
    "collapsed": false
   },
   "outputs": [],
   "source": [
    "import xarray as xr\n",
    "import pandas as pd\n",
    "import matplotlib.pyplot as plt\n",
    "\n",
    "%matplotlib inline\n",
    "data_url = 'http://hydromet-thredds.princeton.edu:9000/thredds/dodsC/data/USGS_Stream_Gages/02146211.nc'\n",
    "ds = xr.open_dataset(data_url)"
   ]
  },
  {
   "cell_type": "code",
   "execution_count": 5,
   "metadata": {
    "collapsed": false
   },
   "outputs": [
    {
     "data": {
      "text/plain": [
       "<xarray.Dataset>\n",
       "Dimensions:       (time: 1096957)\n",
       "Coordinates:\n",
       "    lat           float64 ...\n",
       "    lon           float64 ...\n",
       "    station_id    |S64 ...\n",
       "    station_name  |S64 ...\n",
       "  * time          (time) datetime64[ns] 1986-10-01T05:15:00 ...\n",
       "Data variables:\n",
       "    discharge     (time) float64 ...\n",
       "Attributes:\n",
       "    County: 119-Mecklenburg\n",
       "    Latitude_degrees_NAD83: 35.26208\n",
       "    Hydrologic_unit_code: 03050103\n",
       "    USGS_Station_Number: 02146211\n",
       "    Longitude_degrees_NAD83: -80.8373\n",
       "    Station_Name: IRWIN CR AT STATESVILLE AVE AT CHARLOTTE, NC\n",
       "    HCDN2009: No\n",
       "    featureType: timeSeries\n",
       "    Period_of_Record: October 1981 to September 1994; November 1997 to September 2001; June 2004 to current\n",
       "    Conventions: CF-1.6\n",
       "    Gage: None\n",
       "    Remarks: None\n",
       "    Regulation_and_Diversions: None\n",
       "    Regulated: False\n",
       "    Location: None\n",
       "    Station_Type: Streamgage, continuous record\n",
       "    metadata_source: http://ssdev.cr.usgs.gov/gagePages/html/02146211.htm\n",
       "    history: Created 2016-04-25 15:03:25.515379\n",
       "    DODS.strlen: 44\n",
       "    DODS.dimName: string44"
      ]
     },
     "execution_count": 5,
     "metadata": {},
     "output_type": "execute_result"
    }
   ],
   "source": [
    "ds"
   ]
  },
  {
   "cell_type": "code",
   "execution_count": null,
   "metadata": {
    "collapsed": false
   },
   "outputs": [],
   "source": [
    "ds.discharge.plot()"
   ]
  }
 ],
 "metadata": {
  "kernelspec": {
   "display_name": "Python 2",
   "language": "python",
   "name": "python2"
  },
  "language_info": {
   "codemirror_mode": {
    "name": "ipython",
    "version": 2
   },
   "file_extension": ".py",
   "mimetype": "text/x-python",
   "name": "python",
   "nbconvert_exporter": "python",
   "pygments_lexer": "ipython2",
   "version": "2.7.11"
  }
 },
 "nbformat": 4,
 "nbformat_minor": 0
}
